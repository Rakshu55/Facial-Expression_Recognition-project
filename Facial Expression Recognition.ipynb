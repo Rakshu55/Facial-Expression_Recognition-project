{
 "cells": [
  {
   "cell_type": "markdown",
   "metadata": {},
   "source": [
    "<h1 align=center> Facial Expression Recognition Classifier Model</h1>\n",
    "\n"
   ]
  },
  {
   "cell_type": "markdown",
   "metadata": {},
   "source": [
    " "
   ]
  },
  {
   "cell_type": "markdown",
   "metadata": {},
   "source": [
    "### Import Libraries\n",
    "- Let us import all the required Libraries and Packages including Tensorflow\n"
   ]
  },
  {
   "cell_type": "code",
   "execution_count": 1,
   "metadata": {
    "colab": {},
    "colab_type": "code",
    "id": "wvGxjjeV-9Ls"
   },
   "outputs": [
    {
     "name": "stdout",
     "output_type": "stream",
     "text": [
      "1 Physical GPUs, 1 Logical GPUs\n"
     ]
    }
   ],
   "source": [
    "import os\n",
    "import utils\n",
    "import numpy as np\n",
    "import seaborn as sns\n",
    "import tensorflow as tf\n",
    "tf.config.experimental.list_physical_devices('GPU')\n",
    "gpus = tf.config.experimental.list_physical_devices('GPU')\n",
    "if gpus:\n",
    "    # Restrict TensorFlow to only allocate 1GB * 2 of memory on the first GPU\n",
    "    try:\n",
    "        tf.config.experimental.set_virtual_device_configuration(\n",
    "            gpus[0],\n",
    "            [tf.config.experimental.VirtualDeviceConfiguration(memory_limit=1024 * 2)])\n",
    "        logical_gpus = tf.config.experimental.list_logical_devices('GPU')\n",
    "        print(len(gpus), \"Physical GPUs,\", len(logical_gpus), \"Logical GPUs\")\n",
    "    except RuntimeError as e:\n",
    "        # Virtual devices must be set before GPUs have been initialized\n",
    "        print(e)\n",
    "\n",
    "import matplotlib.pyplot as plt\n",
    "\n",
    "# To set the backend of matplotlib to the 'inline' backend\n",
    "%matplotlib inline\n",
    "\n",
    "from tensorflow.keras.optimizers import Adam\n",
    "from tensorflow.keras.utils import plot_model\n",
    "from tensorflow.keras.models import Model, Sequential\n",
    "from tensorflow.keras.preprocessing.image import ImageDataGenerator\n",
    "from tensorflow.keras.callbacks import ModelCheckpoint, ReduceLROnPlateau\n",
    "from tensorflow.keras.layers import Dense, Input, Dropout,Flatten, Conv2D\n",
    "from tensorflow.keras.layers import BatchNormalization, Activation, MaxPooling2D\n"
   ]
  },
  {
   "cell_type": "markdown",
   "metadata": {},
   "source": [
    "### Plot Sample Images\n",
    "- Let us have a look at random images from the Dataset"
   ]
  },
  {
   "cell_type": "code",
   "execution_count": 2,
   "metadata": {},
   "outputs": [
    {
     "ename": "AttributeError",
     "evalue": "module 'utils' has no attribute 'datasets'",
     "output_type": "error",
     "traceback": [
      "\u001b[1;31m---------------------------------------------------------------------------\u001b[0m",
      "\u001b[1;31mAttributeError\u001b[0m                            Traceback (most recent call last)",
      "\u001b[1;32m<ipython-input-2-afbfd08babc1>\u001b[0m in \u001b[0;36m<module>\u001b[1;34m\u001b[0m\n\u001b[1;32m----> 1\u001b[1;33m \u001b[0mutils\u001b[0m\u001b[1;33m.\u001b[0m\u001b[0mdatasets\u001b[0m\u001b[1;33m.\u001b[0m\u001b[0mfer\u001b[0m\u001b[1;33m.\u001b[0m\u001b[0mplot_example_images\u001b[0m\u001b[1;33m(\u001b[0m\u001b[0mplt\u001b[0m\u001b[1;33m)\u001b[0m\u001b[1;33m.\u001b[0m\u001b[0mshow\u001b[0m\u001b[1;33m(\u001b[0m\u001b[1;33m)\u001b[0m\u001b[1;33m\u001b[0m\u001b[1;33m\u001b[0m\u001b[0m\n\u001b[0m",
      "\u001b[1;31mAttributeError\u001b[0m: module 'utils' has no attribute 'datasets'"
     ]
    }
   ],
   "source": [
    "utils.datasets.fer.plot_example_images(plt).show()"
   ]
  },
  {
   "cell_type": "markdown",
   "metadata": {},
   "source": [
    "### Data Sets\n",
    "- Let us look at the number of Images in Training and Testing Datasets"
   ]
  },
  {
   "cell_type": "code",
   "execution_count": 3,
   "metadata": {
    "colab": {
     "base_uri": "https://localhost:8080/",
     "height": 139
    },
    "colab_type": "code",
    "id": "TalL_1Qr-9Qz",
    "outputId": "f5fb9b05-976a-4979-ea23-33c3d87efb94"
   },
   "outputs": [
    {
     "name": "stdout",
     "output_type": "stream",
     "text": [
      "Images in Training Data\n",
      "_______________________\n",
      "3995 angry images\n",
      "436 disgust images\n",
      "4097 fear images\n",
      "7215 happy images\n",
      "4965 neutral images\n",
      "4830 sad images\n",
      "3171 surprise images\n",
      "\n",
      "\n",
      "Images in Testing Data\n",
      "_______________________\n",
      "958 angry images\n",
      "111 disgust images\n",
      "1024 fear images\n",
      "1774 happy images\n",
      "1233 neutral images\n",
      "1247 sad images\n",
      "831 surprise images\n"
     ]
    }
   ],
   "source": [
    "\n",
    "print(\"Images in Training Data\")\n",
    "print(\"_______________________\")\n",
    "for expression in os.listdir(\"training_data/\"):\n",
    "    print(str(len(os.listdir(\"training_data/\" + expression))) + \" \" + expression + \" images\")\n",
    "\n",
    "print(\"\\n\")\n",
    "\n",
    "print(\"Images in Testing Data\")\n",
    "print(\"_______________________\")\n",
    "for expression in os.listdir(\"testing_data/\"):\n",
    "    print(str(len(os.listdir(\"testing_data/\" + expression))) + \" \" + expression + \" images\")\n",
    "    \n"
   ]
  },
  {
   "cell_type": "markdown",
   "metadata": {},
   "source": [
    "### Create Training and Validation Batches\n",
    "- Using the ImageDataGenerators Let us create Training and Validation Batches by loading images from corresponding directories"
   ]
  },
  {
   "cell_type": "code",
   "execution_count": 4,
   "metadata": {
    "colab": {
     "base_uri": "https://localhost:8080/",
     "height": 52
    },
    "colab_type": "code",
    "id": "iri8ehFw-9Tj",
    "outputId": "1cff3826-c0a9-41ff-a61b-5a677de101ae"
   },
   "outputs": [
    {
     "name": "stdout",
     "output_type": "stream",
     "text": [
      "Found 28709 images belonging to 7 classes.\n",
      "Found 7178 images belonging to 7 classes.\n"
     ]
    }
   ],
   "source": [
    "img_size = 48\n",
    "batch_size = 64\n",
    "\n",
    "datagen_train = ImageDataGenerator(horizontal_flip=True)\n",
    "train_generator = datagen_train.flow_from_directory(\"training_data/\",\n",
    "                                                    target_size=(img_size,img_size),\n",
    "                                                    color_mode=\"grayscale\",\n",
    "                                                    batch_size=batch_size,\n",
    "                                                    class_mode='categorical',\n",
    "                                                    shuffle=True)\n",
    "\n",
    "datagen_validation = ImageDataGenerator(horizontal_flip=True)\n",
    "validation_generator = datagen_validation.flow_from_directory(\"testing_data/\",\n",
    "                                                    target_size=(img_size,img_size),\n",
    "                                                    color_mode=\"grayscale\",\n",
    "                                                    batch_size=batch_size,\n",
    "                                                    class_mode='categorical',\n",
    "                                                    shuffle=False)"
   ]
  },
  {
   "cell_type": "markdown",
   "metadata": {},
   "source": [
    " "
   ]
  },
  {
   "cell_type": "markdown",
   "metadata": {},
   "source": [
    "### Create Convolutional Nueral Network (CNN) Model\n",
    "- Let us create a Nueral Network using 4 Convolutional Layers and 2 Fully Connected dense Layers."
   ]
  },
  {
   "cell_type": "code",
   "execution_count": 5,
   "metadata": {},
   "outputs": [],
   "source": [
    "# Initialising the CNN\n",
    "model = Sequential()\n",
    "\n",
    "# 1st Convolution Layer\n",
    "\n",
    "# There are 64 (3,3) filters with \"same\" Padding and Shape of the Input_Image is (48,48,1)\n",
    "model.add(Conv2D(64,(3,3), padding='same', input_shape=(48, 48,1)))\n",
    "\n",
    "# Normalizing to speed up learning.\n",
    "model.add(BatchNormalization())\n",
    "\n",
    "# Applying Non Linear Activation Function \"relu\"\n",
    "model.add(Activation('relu'))  \n",
    "\n",
    "# Adding a Max Pool Layer of size (2,2)\n",
    "model.add(MaxPooling2D(pool_size=(2, 2)))\n",
    "\n",
    "# Dropout layer with 0.25 fraction of the input units to drop\n",
    "model.add(Dropout(0.25))\n",
    "\n",
    "\n",
    "\n",
    "\n",
    "# 2nd Convolution layer\n",
    "\n",
    "# There are 128 (5,5) filters with \"same\" Padding \n",
    "model.add(Conv2D(128,(5,5), padding='same'))\n",
    "\n",
    "# Normalizing to speed up learning.\n",
    "model.add(BatchNormalization())\n",
    "\n",
    "# Applying Non Linear Activation Function \"relu\"\n",
    "model.add(Activation('relu'))\n",
    "\n",
    "# Adding a Max Pool Layer of size (2,2)\n",
    "model.add(MaxPooling2D(pool_size=(2, 2)))\n",
    "\n",
    "# Dropout layer with 0.25 fraction of the input units to drop\n",
    "model.add(Dropout(0.25))\n",
    "\n",
    "\n",
    "\n",
    "\n",
    "# 3rd Convolution layer\n",
    "\n",
    "# There are 512 (3,3) filters with \"same\" Padding \n",
    "\n",
    "model.add(Conv2D(512,(3,3), padding='same'))\n",
    "\n",
    "# Normalizing to speed up learning.\n",
    "model.add(BatchNormalization())\n",
    "\n",
    "# Applying Non Linear Activation Function \"relu\"\n",
    "model.add(Activation('relu'))\n",
    "\n",
    "# Adding a Max Pool Layer of size (2,2)\n",
    "model.add(MaxPooling2D(pool_size=(2, 2)))\n",
    "\n",
    "# Dropout layer with 0.25 fraction of the input units to drop\n",
    "model.add(Dropout(0.25))\n",
    "\n",
    "\n",
    "\n",
    "\n",
    "\n",
    "# 4th Convolution layer\n",
    "\n",
    "# There are 512 (3,3) filters with \"same\" Padding \n",
    "model.add(Conv2D(512,(3,3), padding='same'))\n",
    "\n",
    "# Normalizing to speed up learning.\n",
    "model.add(BatchNormalization())\n",
    "\n",
    "# Applying Non Linear Activation Function \"relu\"\n",
    "model.add(Activation('relu'))\n",
    "\n",
    "# Adding a Max Pool Layer of size (2,2)\n",
    "model.add(MaxPooling2D(pool_size=(2, 2)))\n",
    "\n",
    "# Dropout layer with 0.25 fraction of the input units to drop \n",
    "model.add(Dropout(0.25))\n",
    "\n",
    "\n",
    "\n",
    "# Flattening\n",
    "model.add(Flatten())\n",
    "\n",
    "\n",
    "# Fully connected layer with 256 nuerons\n",
    "model.add(Dense(256))\n",
    "\n",
    "# Normalizing to speed up learning.\n",
    "model.add(BatchNormalization())\n",
    "\n",
    "# Applying Non Linear Activation Function \"relu\"\n",
    "model.add(Activation('relu'))\n",
    "\n",
    "# Dropout layer with 0.25 fraction of the input units to drop\n",
    "model.add(Dropout(0.25))\n",
    "\n",
    "\n",
    "\n",
    "# Fully connected layer with 512 nuerons\n",
    "model.add(Dense(512))\n",
    "\n",
    "# Normalizing to speed up learning.\n",
    "model.add(BatchNormalization())\n",
    "\n",
    "# Applying Non Linear Activation Function \"relu\"\n",
    "model.add(Activation('relu'))\n",
    "\n",
    "# Dropout layer with 0.25 fraction of the input units to drop\n",
    "model.add(Dropout(0.25))\n",
    "\n",
    "# Adding a final Dense Layer with 7 outputs corresponding to 7 different emotions with a \"softmax\" Activation Function \n",
    "model.add(Dense(7, activation='softmax'))"
   ]
  },
  {
   "cell_type": "markdown",
   "metadata": {},
   "source": [
    "### Compiling the Model\n",
    "- Let us use Adam Optimizer"
   ]
  },
  {
   "cell_type": "code",
   "execution_count": 6,
   "metadata": {},
   "outputs": [
    {
     "name": "stdout",
     "output_type": "stream",
     "text": [
      "Model: \"sequential\"\n",
      "_________________________________________________________________\n",
      "Layer (type)                 Output Shape              Param #   \n",
      "=================================================================\n",
      "conv2d (Conv2D)              (None, 48, 48, 64)        640       \n",
      "_________________________________________________________________\n",
      "batch_normalization (BatchNo (None, 48, 48, 64)        256       \n",
      "_________________________________________________________________\n",
      "activation (Activation)      (None, 48, 48, 64)        0         \n",
      "_________________________________________________________________\n",
      "max_pooling2d (MaxPooling2D) (None, 24, 24, 64)        0         \n",
      "_________________________________________________________________\n",
      "dropout (Dropout)            (None, 24, 24, 64)        0         \n",
      "_________________________________________________________________\n",
      "conv2d_1 (Conv2D)            (None, 24, 24, 128)       204928    \n",
      "_________________________________________________________________\n",
      "batch_normalization_1 (Batch (None, 24, 24, 128)       512       \n",
      "_________________________________________________________________\n",
      "activation_1 (Activation)    (None, 24, 24, 128)       0         \n",
      "_________________________________________________________________\n",
      "max_pooling2d_1 (MaxPooling2 (None, 12, 12, 128)       0         \n",
      "_________________________________________________________________\n",
      "dropout_1 (Dropout)          (None, 12, 12, 128)       0         \n",
      "_________________________________________________________________\n",
      "conv2d_2 (Conv2D)            (None, 12, 12, 512)       590336    \n",
      "_________________________________________________________________\n",
      "batch_normalization_2 (Batch (None, 12, 12, 512)       2048      \n",
      "_________________________________________________________________\n",
      "activation_2 (Activation)    (None, 12, 12, 512)       0         \n",
      "_________________________________________________________________\n",
      "max_pooling2d_2 (MaxPooling2 (None, 6, 6, 512)         0         \n",
      "_________________________________________________________________\n",
      "dropout_2 (Dropout)          (None, 6, 6, 512)         0         \n",
      "_________________________________________________________________\n",
      "conv2d_3 (Conv2D)            (None, 6, 6, 512)         2359808   \n",
      "_________________________________________________________________\n",
      "batch_normalization_3 (Batch (None, 6, 6, 512)         2048      \n",
      "_________________________________________________________________\n",
      "activation_3 (Activation)    (None, 6, 6, 512)         0         \n",
      "_________________________________________________________________\n",
      "max_pooling2d_3 (MaxPooling2 (None, 3, 3, 512)         0         \n",
      "_________________________________________________________________\n",
      "dropout_3 (Dropout)          (None, 3, 3, 512)         0         \n",
      "_________________________________________________________________\n",
      "flatten (Flatten)            (None, 4608)              0         \n",
      "_________________________________________________________________\n",
      "dense (Dense)                (None, 256)               1179904   \n",
      "_________________________________________________________________\n",
      "batch_normalization_4 (Batch (None, 256)               1024      \n",
      "_________________________________________________________________\n",
      "activation_4 (Activation)    (None, 256)               0         \n",
      "_________________________________________________________________\n",
      "dropout_4 (Dropout)          (None, 256)               0         \n",
      "_________________________________________________________________\n",
      "dense_1 (Dense)              (None, 512)               131584    \n",
      "_________________________________________________________________\n",
      "batch_normalization_5 (Batch (None, 512)               2048      \n",
      "_________________________________________________________________\n",
      "activation_5 (Activation)    (None, 512)               0         \n",
      "_________________________________________________________________\n",
      "dropout_5 (Dropout)          (None, 512)               0         \n",
      "_________________________________________________________________\n",
      "dense_2 (Dense)              (None, 7)                 3591      \n",
      "=================================================================\n",
      "Total params: 4,478,727\n",
      "Trainable params: 4,474,759\n",
      "Non-trainable params: 3,968\n",
      "_________________________________________________________________\n"
     ]
    }
   ],
   "source": [
    "# Adam is an optimization algorithm that can be used instead of the classical stochastic gradient descent \n",
    "# procedure to update network weights iterative based in training data.\n",
    "\n",
    "# Let us choose a Learning rate of 0.0005 \n",
    "opt = Adam(lr=0.0005)\n",
    "\n",
    "\n",
    "# Compile defines the loss function, the optimizer and the metrics.\n",
    "\n",
    "# As we have Categorical Values we will use 'categorical_crossentropy' loss function\n",
    "model.compile(optimizer=opt, loss='categorical_crossentropy', metrics=['accuracy'])\n",
    "\n",
    "# Let us check the details of the Model\n",
    "model.summary()"
   ]
  },
  {
   "cell_type": "markdown",
   "metadata": {},
   "source": [
    " "
   ]
  },
  {
   "cell_type": "markdown",
   "metadata": {},
   "source": [
    " "
   ]
  },
  {
   "cell_type": "markdown",
   "metadata": {},
   "source": [
    "### Train and Evaluate Model"
   ]
  },
  {
   "cell_type": "code",
   "execution_count": 7,
   "metadata": {},
   "outputs": [
    {
     "name": "stdout",
     "output_type": "stream",
     "text": [
      "Epoch 1/15\n",
      "448/448 [==============================] - 125s 266ms/step - loss: 1.9487 - accuracy: 0.2566 - val_loss: 1.7709 - val_accuracy: 0.3619\n",
      "\n",
      "Epoch 00001: saving model to model_weights.h5\n",
      "Epoch 2/15\n",
      "448/448 [==============================] - 11s 23ms/step - loss: 1.5274 - accuracy: 0.4136 - val_loss: 1.3784 - val_accuracy: 0.4694\n",
      "\n",
      "Epoch 00002: saving model to model_weights.h5\n",
      "Epoch 3/15\n",
      "448/448 [==============================] - 11s 24ms/step - loss: 1.3467 - accuracy: 0.4879 - val_loss: 1.2862 - val_accuracy: 0.4960\n",
      "\n",
      "Epoch 00003: saving model to model_weights.h5\n",
      "Epoch 4/15\n",
      "448/448 [==============================] - 11s 24ms/step - loss: 1.2591 - accuracy: 0.5184 - val_loss: 1.1928 - val_accuracy: 0.5442\n",
      "\n",
      "Epoch 00004: saving model to model_weights.h5\n",
      "Epoch 5/15\n",
      "448/448 [==============================] - 11s 23ms/step - loss: 1.1938 - accuracy: 0.5464 - val_loss: 1.1813 - val_accuracy: 0.5536\n",
      "\n",
      "Epoch 00005: saving model to model_weights.h5\n",
      "Epoch 6/15\n",
      "448/448 [==============================] - 10s 23ms/step - loss: 1.1402 - accuracy: 0.5664 - val_loss: 1.1801 - val_accuracy: 0.5409\n",
      "\n",
      "Epoch 00006: saving model to model_weights.h5\n",
      "Epoch 7/15\n",
      "448/448 [==============================] - 10s 23ms/step - loss: 1.1161 - accuracy: 0.5758 - val_loss: 1.1383 - val_accuracy: 0.5605\n",
      "\n",
      "Epoch 00007: saving model to model_weights.h5\n",
      "Epoch 8/15\n",
      "448/448 [==============================] - 10s 23ms/step - loss: 1.0847 - accuracy: 0.5910 - val_loss: 1.0878 - val_accuracy: 0.5820\n",
      "\n",
      "Epoch 00008: saving model to model_weights.h5\n",
      "Epoch 9/15\n",
      "448/448 [==============================] - 10s 23ms/step - loss: 1.0508 - accuracy: 0.6030 - val_loss: 1.0884 - val_accuracy: 0.5847\n",
      "\n",
      "Epoch 00009: saving model to model_weights.h5\n",
      "Epoch 10/15\n",
      "448/448 [==============================] - 10s 23ms/step - loss: 1.0253 - accuracy: 0.6115 - val_loss: 1.0598 - val_accuracy: 0.5978\n",
      "\n",
      "Epoch 00010: saving model to model_weights.h5\n",
      "Epoch 11/15\n",
      "448/448 [==============================] - 10s 23ms/step - loss: 1.0071 - accuracy: 0.6225 - val_loss: 1.0693 - val_accuracy: 0.5970\n",
      "\n",
      "Epoch 00011: saving model to model_weights.h5\n",
      "Epoch 12/15\n",
      "448/448 [==============================] - 11s 23ms/step - loss: 0.9899 - accuracy: 0.6287 - val_loss: 1.0705 - val_accuracy: 0.5926\n",
      "\n",
      "Epoch 00012: saving model to model_weights.h5\n",
      "Epoch 13/15\n",
      "448/448 [==============================] - 11s 24ms/step - loss: 0.9299 - accuracy: 0.6558 - val_loss: 0.9963 - val_accuracy: 0.6274\n",
      "\n",
      "Epoch 00013: saving model to model_weights.h5\n",
      "Epoch 14/15\n",
      "448/448 [==============================] - 10s 23ms/step - loss: 0.8931 - accuracy: 0.6639 - val_loss: 0.9664 - val_accuracy: 0.6448\n",
      "\n",
      "Epoch 00014: saving model to model_weights.h5\n",
      "Epoch 15/15\n",
      "448/448 [==============================] - 11s 24ms/step - loss: 0.8822 - accuracy: 0.6711 - val_loss: 0.9746 - val_accuracy: 0.6362\n",
      "\n",
      "Epoch 00015: saving model to model_weights.h5\n"
     ]
    }
   ],
   "source": [
    "# Let us train the Model 15 times\n",
    "epochs = 15\n",
    "\n",
    "steps_per_epoch = train_generator.n//train_generator.batch_size\n",
    "validation_steps = validation_generator.n//validation_generator.batch_size\n",
    "\n",
    "# Create a Callback which reduces the Learning rate by a factor of \"0.1\" when the val_loss does not decrease\n",
    "# after 2 epochs also and allowing the minimum value of Learning Rate to be 0.00001\n",
    "reduce_lr = ReduceLROnPlateau(monitor='val_loss', factor=0.1,\n",
    "                              patience=2, min_lr=0.00001, mode='auto')\n",
    "\n",
    "\n",
    "# Create another Callback which saves the Model Weights by monitoring the Val_Accuracy\n",
    "checkpoint = ModelCheckpoint(\"model_weights.h5\", monitor='val_accuracy',\n",
    "                             save_weights_only=True, mode='max', verbose=1)\n",
    "\n",
    "\n",
    "# A callback is an object that can perform actions at various stages of training\n",
    "# (e.g. at the start or end of an epoch, before or after a single batch, etc).\n",
    "callbacks = [checkpoint, reduce_lr]\n",
    "\n",
    "# Fitting the model .\n",
    "history = model.fit(\n",
    "    x=train_generator,\n",
    "    steps_per_epoch=steps_per_epoch,\n",
    "    epochs=epochs,\n",
    "    validation_data = validation_generator,\n",
    "    validation_steps = validation_steps,\n",
    "    callbacks=callbacks\n",
    ")"
   ]
  },
  {
   "cell_type": "markdown",
   "metadata": {},
   "source": [
    " "
   ]
  },
  {
   "cell_type": "markdown",
   "metadata": {},
   "source": [
    "### Represent Model as JSON String"
   ]
  },
  {
   "cell_type": "code",
   "execution_count": 8,
   "metadata": {
    "colab": {},
    "colab_type": "code",
    "id": "cHw8ir7CVAE0"
   },
   "outputs": [],
   "source": [
    "# Converting the model into JSON format and storing it in \"fer_model.json\" file. \n",
    "model_json = model.to_json()\n",
    "with open(\"model.json\", \"w\") as json_file:\n",
    "    json_file.write(model_json)"
   ]
  },
  {
   "cell_type": "code",
   "execution_count": null,
   "metadata": {},
   "outputs": [],
   "source": []
  }
 ],
 "metadata": {
  "accelerator": "GPU",
  "colab": {
   "collapsed_sections": [],
   "name": "Facial_Expression_Training.ipynb",
   "provenance": [],
   "version": "0.3.2"
  },
  "kernelspec": {
   "display_name": "Python 3",
   "language": "python",
   "name": "python3"
  },
  "language_info": {
   "codemirror_mode": {
    "name": "ipython",
    "version": 3
   },
   "file_extension": ".py",
   "mimetype": "text/x-python",
   "name": "python",
   "nbconvert_exporter": "python",
   "pygments_lexer": "ipython3",
   "version": "3.8.10"
  }
 },
 "nbformat": 4,
 "nbformat_minor": 4
}
